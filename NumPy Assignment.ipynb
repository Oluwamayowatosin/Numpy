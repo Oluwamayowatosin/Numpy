{
 "cells": [
  {
   "cell_type": "markdown",
   "id": "0929a298",
   "metadata": {},
   "source": [
    "# Assignment 1\n",
    "1. Generate an np array of (a) vector of lenght 50 (b) two dimension of shape 5x4. Both uniformly distributed between 0 and 1\n",
    "2. Split the two dimension array in 1 above into three arrays taking the first two rows, follow by the next two rows and put the remaining row in another variable\n",
    "3. Split the vector into in 1 above three arrays by taking the first 15, follow by the next 20 and the remaining into another variable.\n",
    "4. Create a 4x5 array: \n",
    "   (a). Using manual method\n",
    "   (b). Using randomly generated value between 0 and 1\n",
    "   (c). Using array of ones"
   ]
  },
  {
   "cell_type": "code",
   "execution_count": 46,
   "id": "af13077f",
   "metadata": {},
   "outputs": [],
   "source": [
    "import numpy as np"
   ]
  },
  {
   "cell_type": "code",
   "execution_count": 66,
   "id": "feb331fd",
   "metadata": {},
   "outputs": [
    {
     "data": {
      "text/plain": [
       "array([0.8742349 , 0.49117047, 0.71610729, 0.90403393, 0.6809621 ,\n",
       "       0.1724151 , 0.47086525, 0.04089779, 0.5208141 , 0.15153191,\n",
       "       0.71154567, 0.7700456 , 0.73277518, 0.34745988, 0.7119036 ,\n",
       "       0.57649281, 0.27365067, 0.46083004, 0.35728644, 0.88309174,\n",
       "       0.31151471, 0.7957097 , 0.11820711, 0.64470254, 0.46981948,\n",
       "       0.61385084, 0.77392926, 0.33863165, 0.56014869, 0.19939825,\n",
       "       0.62668957, 0.11915087, 0.44795683, 0.79131522, 0.43034284,\n",
       "       0.27450142, 0.04903878, 0.85790271, 0.97206353, 0.59580247,\n",
       "       0.01322819, 0.77849336, 0.60286648, 0.37856243, 0.9176115 ,\n",
       "       0.20865598, 0.13256418, 0.41693256, 0.8159664 , 0.34617623])"
      ]
     },
     "execution_count": 66,
     "metadata": {},
     "output_type": "execute_result"
    }
   ],
   "source": [
    "#1. Generate an np array of (a) vector of lenght 50 (b) two dimension of shape 5x4.\n",
    "#Both uniformly distributed between 0 and 1\n",
    "vt=np.random.random(50)\n",
    "vt"
   ]
  },
  {
   "cell_type": "code",
   "execution_count": 67,
   "id": "3f4c4fe3",
   "metadata": {},
   "outputs": [
    {
     "data": {
      "text/plain": [
       "array([[0.5488135 , 0.71518937, 0.60276338, 0.54488318],\n",
       "       [0.4236548 , 0.64589411, 0.43758721, 0.891773  ],\n",
       "       [0.96366276, 0.38344152, 0.79172504, 0.52889492],\n",
       "       [0.56804456, 0.92559664, 0.07103606, 0.0871293 ],\n",
       "       [0.0202184 , 0.83261985, 0.77815675, 0.87001215]])"
      ]
     },
     "execution_count": 67,
     "metadata": {},
     "output_type": "execute_result"
    }
   ],
   "source": [
    "#b. Split the two dimension array in 1 above into three arrays taking the first two rows,\n",
    "#follow by the next two rows and put the remaining row in another variable\n",
    "np.random.seed(0)\n",
    "vtr=np.random.random((5,4))\n",
    "vtr"
   ]
  },
  {
   "cell_type": "code",
   "execution_count": 4,
   "id": "c0d519d1",
   "metadata": {},
   "outputs": [
    {
     "name": "stdout",
     "output_type": "stream",
     "text": [
      "the first split\n",
      " [[0.5488135  0.71518937 0.60276338 0.54488318]\n",
      " [0.4236548  0.64589411 0.43758721 0.891773  ]]\n",
      "the second split\n",
      " [[0.96366276 0.38344152 0.79172504 0.52889492]\n",
      " [0.56804456 0.92559664 0.07103606 0.0871293 ]]\n",
      "the third split\n",
      " [[0.0202184  0.83261985 0.77815675 0.87001215]]\n"
     ]
    }
   ],
   "source": [
    "#2. Split the two dimension array in 1 above into three arrays taking the first two rows, follow\n",
    "#by the next two rows and put the remaining row in another variable\n",
    "first, second, third = np.vsplit(vtr,[2,4])\n",
    "print(\"the first split\\n\",first)\n",
    "print(\"the second split\\n\",second)\n",
    "print(\"the third split\\n\",third)"
   ]
  },
  {
   "cell_type": "code",
   "execution_count": 6,
   "id": "793a86bc",
   "metadata": {},
   "outputs": [
    {
     "name": "stdout",
     "output_type": "stream",
     "text": [
      "[0.49683542 0.80777561 0.71049224 0.40710565 0.78297408 0.85935318\n",
      " 0.43453697 0.60419488 0.62691234 0.19412915 0.19716775 0.56591901\n",
      " 0.69926397 0.0720287  0.2779893 ] [0.99211955 0.66856063 0.15916415 0.60599983 0.40540394 0.3638743\n",
      " 0.80549499 0.7936431  0.53420858 0.61882164 0.62657412 0.24833743\n",
      " 0.96014864 0.47980446 0.86225469 0.27198282 0.00673704 0.89551179\n",
      " 0.69796259 0.40457352] [0.87152786 0.7448211  0.72521458 0.60090569 0.50282957 0.36440695\n",
      " 0.43646836 0.47763168 0.51875694 0.22163512 0.62489085 0.360497\n",
      " 0.60075648 0.14783433 0.19595356]\n"
     ]
    }
   ],
   "source": [
    "#3. Split the vector into in 1 above three arrays by taking the first 15, follow by the next 20\n",
    "#and the remaining into another variable.\n",
    "x1,x2,x3 = np.split(vt,(15,35))\n",
    "print(x1,x2,x3)"
   ]
  },
  {
   "cell_type": "code",
   "execution_count": 7,
   "id": "8d86b747",
   "metadata": {},
   "outputs": [
    {
     "data": {
      "text/plain": [
       "array([[ 1,  2,  3,  4,  5],\n",
       "       [ 6,  7,  8,  9, 10],\n",
       "       [11, 12, 13, 14, 15],\n",
       "       [16, 17, 18, 19, 20]])"
      ]
     },
     "execution_count": 7,
     "metadata": {},
     "output_type": "execute_result"
    }
   ],
   "source": [
    "#4. Create a 4x5 array: (a). Using manual method (b). Using randomly generated\n",
    "# value between 0 and 1 (c). Using array of ones\n",
    "\n",
    "np.array([[1,2,3,4,5],[6,7,8,9,10],[11,12,13,14,15],[16,17,18,19,20]])"
   ]
  },
  {
   "cell_type": "code",
   "execution_count": 8,
   "id": "30b45dab",
   "metadata": {},
   "outputs": [
    {
     "data": {
      "text/plain": [
       "array([[0.97861834, 0.79915856, 0.46147936, 0.78052918, 0.11827443],\n",
       "       [0.63992102, 0.14335329, 0.94466892, 0.52184832, 0.41466194],\n",
       "       [0.26455561, 0.77423369, 0.45615033, 0.56843395, 0.0187898 ],\n",
       "       [0.6176355 , 0.61209572, 0.616934  , 0.94374808, 0.6818203 ]])"
      ]
     },
     "execution_count": 8,
     "metadata": {},
     "output_type": "execute_result"
    }
   ],
   "source": [
    "# (b). Using randomly generated value between 0 and 1\n",
    "np.random.random((4,5))"
   ]
  },
  {
   "cell_type": "code",
   "execution_count": 9,
   "id": "68d27a3f",
   "metadata": {},
   "outputs": [
    {
     "data": {
      "text/plain": [
       "array([[1., 1., 1., 1., 1.],\n",
       "       [1., 1., 1., 1., 1.],\n",
       "       [1., 1., 1., 1., 1.],\n",
       "       [1., 1., 1., 1., 1.]])"
      ]
     },
     "execution_count": 9,
     "metadata": {},
     "output_type": "execute_result"
    }
   ],
   "source": [
    "# (c). Using array of ones\n",
    "np.ones((4,5))"
   ]
  },
  {
   "cell_type": "code",
   "execution_count": null,
   "id": "f59e8ccc",
   "metadata": {},
   "outputs": [],
   "source": []
  },
  {
   "cell_type": "markdown",
   "id": "4a829e7a",
   "metadata": {},
   "source": [
    "# Assignment 2:\n",
    "#use us_births data to compute the following using np:\n",
    "    #extract the year, gender and births column from the data\n",
    "    #compute the aggregation of sum of total birth, sum of female birth and sum of male birth, mean and median\n",
    "    #compute the maximum births and minimum births\n",
    "    #indicate the gender with minimum birth and maximum birth\n",
    "    #indicate the year with minimum birth and maximum birth"
   ]
  },
  {
   "cell_type": "code",
   "execution_count": 69,
   "id": "d8372f6e",
   "metadata": {
    "scrolled": true
   },
   "outputs": [],
   "source": [
    "# import numpy to start using numpy package\n",
    "import numpy as np"
   ]
  },
  {
   "cell_type": "code",
   "execution_count": 1,
   "id": "5320fc0e",
   "metadata": {},
   "outputs": [
    {
     "data": {
      "text/html": [
       "<div>\n",
       "<style scoped>\n",
       "    .dataframe tbody tr th:only-of-type {\n",
       "        vertical-align: middle;\n",
       "    }\n",
       "\n",
       "    .dataframe tbody tr th {\n",
       "        vertical-align: top;\n",
       "    }\n",
       "\n",
       "    .dataframe thead th {\n",
       "        text-align: right;\n",
       "    }\n",
       "</style>\n",
       "<table border=\"1\" class=\"dataframe\">\n",
       "  <thead>\n",
       "    <tr style=\"text-align: right;\">\n",
       "      <th></th>\n",
       "      <th>year</th>\n",
       "      <th>month</th>\n",
       "      <th>day</th>\n",
       "      <th>gender</th>\n",
       "      <th>births</th>\n",
       "    </tr>\n",
       "  </thead>\n",
       "  <tbody>\n",
       "    <tr>\n",
       "      <th>0</th>\n",
       "      <td>1969</td>\n",
       "      <td>1</td>\n",
       "      <td>1.0</td>\n",
       "      <td>F</td>\n",
       "      <td>4046</td>\n",
       "    </tr>\n",
       "    <tr>\n",
       "      <th>1</th>\n",
       "      <td>1969</td>\n",
       "      <td>1</td>\n",
       "      <td>1.0</td>\n",
       "      <td>M</td>\n",
       "      <td>4440</td>\n",
       "    </tr>\n",
       "    <tr>\n",
       "      <th>2</th>\n",
       "      <td>1969</td>\n",
       "      <td>1</td>\n",
       "      <td>2.0</td>\n",
       "      <td>F</td>\n",
       "      <td>4454</td>\n",
       "    </tr>\n",
       "    <tr>\n",
       "      <th>3</th>\n",
       "      <td>1969</td>\n",
       "      <td>1</td>\n",
       "      <td>2.0</td>\n",
       "      <td>M</td>\n",
       "      <td>4548</td>\n",
       "    </tr>\n",
       "    <tr>\n",
       "      <th>4</th>\n",
       "      <td>1969</td>\n",
       "      <td>1</td>\n",
       "      <td>3.0</td>\n",
       "      <td>F</td>\n",
       "      <td>4548</td>\n",
       "    </tr>\n",
       "  </tbody>\n",
       "</table>\n",
       "</div>"
      ],
      "text/plain": [
       "   year  month  day gender  births\n",
       "0  1969      1  1.0      F    4046\n",
       "1  1969      1  1.0      M    4440\n",
       "2  1969      1  2.0      F    4454\n",
       "3  1969      1  2.0      M    4548\n",
       "4  1969      1  3.0      F    4548"
      ]
     },
     "execution_count": 1,
     "metadata": {},
     "output_type": "execute_result"
    }
   ],
   "source": [
    "import pandas as pd\n",
    "us_births = pd.read_csv('C:\\\\Datasets\\\\us_births.csv')\n",
    "us_births.head()"
   ]
  },
  {
   "cell_type": "code",
   "execution_count": 71,
   "id": "b93005f4",
   "metadata": {},
   "outputs": [
    {
     "name": "stdout",
     "output_type": "stream",
     "text": [
      "Us Year\n",
      " [1969 1969 1969 ... 2008 2008 2008] \n",
      "\n",
      "Us Gender\n",
      " ['F' 'M' 'F' ... 'M' 'F' 'M'] \n",
      "\n",
      "Us Births\n",
      " [  4046   4440   4454 ... 165468 173215 181235] \n",
      "\n"
     ]
    }
   ],
   "source": [
    "# extract the year, gender and births column from the data\n",
    "us_year = np.array(us_births['year'])\n",
    "#gender = us_birth.gender.values\n",
    "us_gender = np.array(us_births['gender'])\n",
    "#birth = us_birth['birth'].values\n",
    "us_birth = np.array(us_births['births'])\n",
    "print(\"Us Year\\n\",us_year,\"\\n\")\n",
    "print(\"Us Gender\\n\",us_gender,\"\\n\")\n",
    "print(\"Us Births\\n\",us_birth,\"\\n\")"
   ]
  },
  {
   "cell_type": "code",
   "execution_count": 120,
   "id": "8f588a99",
   "metadata": {},
   "outputs": [
    {
     "name": "stdout",
     "output_type": "stream",
     "text": [
      "sum of total birth:  151774378\n",
      "sum of female birth:  74035823\n",
      "sum of male birth:  77738555\n",
      "mean birth:    9762.293561458802\n",
      "median birth: 4814.0\n",
      "standard deviation of total birth: 28551.547532287397\n"
     ]
    }
   ],
   "source": [
    "#compute the aggregation of sum of total birth, sum of female birth and sum of male birth, mean \n",
    "#and standard deviation\n",
    "#print(\"sum of total birth: \", np.sum(birth))\n",
    "print(\"sum of total birth: \", us_birth.sum())\n",
    "print(\"sum of female birth: \", np.sum(us_birth[np.equal(us_gender,\"F\")])) \n",
    "# print(\"sum of male birth: \", us_gender.sum(<M))\n",
    "print(\"sum of male birth: \", np.sum(us_birth[np.equal(us_gender,\"M\")]))\n",
    "print(\"mean birth:   \", us_birth.mean())\n",
    "print(\"median birth:\", np.median(us_birth))\n",
    "print(\"standard deviation of total birth:\", np.std(us_birth))"
   ]
  },
  {
   "cell_type": "code",
   "execution_count": 61,
   "id": "dfa1c83c",
   "metadata": {},
   "outputs": [
    {
     "name": "stdout",
     "output_type": "stream",
     "text": [
      "maximum birth:  199622\n",
      "minimum birth:  1\n"
     ]
    }
   ],
   "source": [
    "#compute the maximum births and minimum births\n",
    "print(\"maximum birth: \", us_birth.max())\n",
    "print(\"minimum birth: \", us_birth.min())"
   ]
  },
  {
   "cell_type": "code",
   "execution_count": 84,
   "id": "496ebc9a",
   "metadata": {},
   "outputs": [
    {
     "name": "stdout",
     "output_type": "stream",
     "text": [
      "Gender with Minimum birth:  F\n",
      "Gender with Maximum birth:  M\n"
     ]
    }
   ],
   "source": [
    "#indicate the gender with minimum birth and maximum birth\n",
    "print(\"Gender with Minimum birth: \", us_gender[np.argmin(us_birth)])\n",
    "print(\"Gender with Maximum birth: \", us_gender[np.argmax(us_birth)])"
   ]
  },
  {
   "cell_type": "code",
   "execution_count": 85,
   "id": "4d573ade",
   "metadata": {
    "scrolled": true
   },
   "outputs": [
    {
     "name": "stdout",
     "output_type": "stream",
     "text": [
      "Year with Minimum birth:  1975\n",
      "Year with Maximum birth:  2007\n"
     ]
    }
   ],
   "source": [
    " #indicate the year with minimum birth and maximum birth\n",
    "print(\"Year with Minimum birth: \", us_year[np.argmin(us_birth)])\n",
    "print(\"Year with Maximum birth: \", us_year[np.argmax(us_birth)])"
   ]
  },
  {
   "cell_type": "code",
   "execution_count": null,
   "id": "e6179ab7",
   "metadata": {},
   "outputs": [],
   "source": []
  },
  {
   "cell_type": "markdown",
   "id": "ad2df911",
   "metadata": {},
   "source": [
    "#  Assignment 3\n",
    "Using the Bicycle Weather.csv dataset perform the following operations: 1. Extract the PRCP column from the pandas object. 2. Using boolean functions/operators separate numbers from NAN 3. Using boolean masking separate all zeros and non-zeros into different variables. 4. From the variable holding non-zeros, multiply every values in the array with 100 and divid by 250 5. Calculate the following: a. Median precip on rainy days b. Median precip on summer days c. Maximum precip on summer days d. Median precip on non-summer rainy days"
   ]
  },
  {
   "cell_type": "code",
   "execution_count": 7,
   "id": "4a2e2e6d",
   "metadata": {},
   "outputs": [
    {
     "data": {
      "text/html": [
       "<div>\n",
       "<style scoped>\n",
       "    .dataframe tbody tr th:only-of-type {\n",
       "        vertical-align: middle;\n",
       "    }\n",
       "\n",
       "    .dataframe tbody tr th {\n",
       "        vertical-align: top;\n",
       "    }\n",
       "\n",
       "    .dataframe thead th {\n",
       "        text-align: right;\n",
       "    }\n",
       "</style>\n",
       "<table border=\"1\" class=\"dataframe\">\n",
       "  <thead>\n",
       "    <tr style=\"text-align: right;\">\n",
       "      <th></th>\n",
       "      <th>STATION</th>\n",
       "      <th>STATION_NAME</th>\n",
       "      <th>DATE</th>\n",
       "      <th>PRCP</th>\n",
       "      <th>SNWD</th>\n",
       "      <th>SNOW</th>\n",
       "      <th>TMAX</th>\n",
       "      <th>TMIN</th>\n",
       "      <th>AWND</th>\n",
       "      <th>WDF2</th>\n",
       "      <th>...</th>\n",
       "      <th>WT17</th>\n",
       "      <th>WT05</th>\n",
       "      <th>WT02</th>\n",
       "      <th>WT22</th>\n",
       "      <th>WT04</th>\n",
       "      <th>WT13</th>\n",
       "      <th>WT16</th>\n",
       "      <th>WT08</th>\n",
       "      <th>WT18</th>\n",
       "      <th>WT03</th>\n",
       "    </tr>\n",
       "  </thead>\n",
       "  <tbody>\n",
       "    <tr>\n",
       "      <th>0</th>\n",
       "      <td>GHCND:USW00024233</td>\n",
       "      <td>SEATTLE TACOMA INTERNATIONAL AIRPORT WA US</td>\n",
       "      <td>20120101</td>\n",
       "      <td>0</td>\n",
       "      <td>0</td>\n",
       "      <td>0</td>\n",
       "      <td>128</td>\n",
       "      <td>50</td>\n",
       "      <td>47</td>\n",
       "      <td>100</td>\n",
       "      <td>...</td>\n",
       "      <td>-9999</td>\n",
       "      <td>-9999</td>\n",
       "      <td>-9999</td>\n",
       "      <td>-9999</td>\n",
       "      <td>-9999</td>\n",
       "      <td>-9999</td>\n",
       "      <td>-9999</td>\n",
       "      <td>-9999</td>\n",
       "      <td>-9999</td>\n",
       "      <td>-9999</td>\n",
       "    </tr>\n",
       "    <tr>\n",
       "      <th>1</th>\n",
       "      <td>GHCND:USW00024233</td>\n",
       "      <td>SEATTLE TACOMA INTERNATIONAL AIRPORT WA US</td>\n",
       "      <td>20120102</td>\n",
       "      <td>109</td>\n",
       "      <td>0</td>\n",
       "      <td>0</td>\n",
       "      <td>106</td>\n",
       "      <td>28</td>\n",
       "      <td>45</td>\n",
       "      <td>180</td>\n",
       "      <td>...</td>\n",
       "      <td>-9999</td>\n",
       "      <td>-9999</td>\n",
       "      <td>-9999</td>\n",
       "      <td>-9999</td>\n",
       "      <td>-9999</td>\n",
       "      <td>1</td>\n",
       "      <td>1</td>\n",
       "      <td>-9999</td>\n",
       "      <td>-9999</td>\n",
       "      <td>-9999</td>\n",
       "    </tr>\n",
       "    <tr>\n",
       "      <th>2</th>\n",
       "      <td>GHCND:USW00024233</td>\n",
       "      <td>SEATTLE TACOMA INTERNATIONAL AIRPORT WA US</td>\n",
       "      <td>20120103</td>\n",
       "      <td>8</td>\n",
       "      <td>0</td>\n",
       "      <td>0</td>\n",
       "      <td>117</td>\n",
       "      <td>72</td>\n",
       "      <td>23</td>\n",
       "      <td>180</td>\n",
       "      <td>...</td>\n",
       "      <td>-9999</td>\n",
       "      <td>-9999</td>\n",
       "      <td>-9999</td>\n",
       "      <td>-9999</td>\n",
       "      <td>-9999</td>\n",
       "      <td>-9999</td>\n",
       "      <td>1</td>\n",
       "      <td>-9999</td>\n",
       "      <td>-9999</td>\n",
       "      <td>-9999</td>\n",
       "    </tr>\n",
       "    <tr>\n",
       "      <th>3</th>\n",
       "      <td>GHCND:USW00024233</td>\n",
       "      <td>SEATTLE TACOMA INTERNATIONAL AIRPORT WA US</td>\n",
       "      <td>20120104</td>\n",
       "      <td>203</td>\n",
       "      <td>0</td>\n",
       "      <td>0</td>\n",
       "      <td>122</td>\n",
       "      <td>56</td>\n",
       "      <td>47</td>\n",
       "      <td>180</td>\n",
       "      <td>...</td>\n",
       "      <td>-9999</td>\n",
       "      <td>-9999</td>\n",
       "      <td>-9999</td>\n",
       "      <td>-9999</td>\n",
       "      <td>-9999</td>\n",
       "      <td>1</td>\n",
       "      <td>1</td>\n",
       "      <td>-9999</td>\n",
       "      <td>-9999</td>\n",
       "      <td>-9999</td>\n",
       "    </tr>\n",
       "    <tr>\n",
       "      <th>4</th>\n",
       "      <td>GHCND:USW00024233</td>\n",
       "      <td>SEATTLE TACOMA INTERNATIONAL AIRPORT WA US</td>\n",
       "      <td>20120105</td>\n",
       "      <td>13</td>\n",
       "      <td>0</td>\n",
       "      <td>0</td>\n",
       "      <td>89</td>\n",
       "      <td>28</td>\n",
       "      <td>61</td>\n",
       "      <td>200</td>\n",
       "      <td>...</td>\n",
       "      <td>-9999</td>\n",
       "      <td>-9999</td>\n",
       "      <td>-9999</td>\n",
       "      <td>-9999</td>\n",
       "      <td>-9999</td>\n",
       "      <td>-9999</td>\n",
       "      <td>1</td>\n",
       "      <td>-9999</td>\n",
       "      <td>-9999</td>\n",
       "      <td>-9999</td>\n",
       "    </tr>\n",
       "  </tbody>\n",
       "</table>\n",
       "<p>5 rows × 26 columns</p>\n",
       "</div>"
      ],
      "text/plain": [
       "             STATION                                STATION_NAME      DATE  \\\n",
       "0  GHCND:USW00024233  SEATTLE TACOMA INTERNATIONAL AIRPORT WA US  20120101   \n",
       "1  GHCND:USW00024233  SEATTLE TACOMA INTERNATIONAL AIRPORT WA US  20120102   \n",
       "2  GHCND:USW00024233  SEATTLE TACOMA INTERNATIONAL AIRPORT WA US  20120103   \n",
       "3  GHCND:USW00024233  SEATTLE TACOMA INTERNATIONAL AIRPORT WA US  20120104   \n",
       "4  GHCND:USW00024233  SEATTLE TACOMA INTERNATIONAL AIRPORT WA US  20120105   \n",
       "\n",
       "   PRCP  SNWD  SNOW  TMAX  TMIN  AWND  WDF2  ...  WT17  WT05  WT02  WT22  \\\n",
       "0     0     0     0   128    50    47   100  ... -9999 -9999 -9999 -9999   \n",
       "1   109     0     0   106    28    45   180  ... -9999 -9999 -9999 -9999   \n",
       "2     8     0     0   117    72    23   180  ... -9999 -9999 -9999 -9999   \n",
       "3   203     0     0   122    56    47   180  ... -9999 -9999 -9999 -9999   \n",
       "4    13     0     0    89    28    61   200  ... -9999 -9999 -9999 -9999   \n",
       "\n",
       "   WT04  WT13  WT16  WT08  WT18  WT03  \n",
       "0 -9999 -9999 -9999 -9999 -9999 -9999  \n",
       "1 -9999     1     1 -9999 -9999 -9999  \n",
       "2 -9999 -9999     1 -9999 -9999 -9999  \n",
       "3 -9999     1     1 -9999 -9999 -9999  \n",
       "4 -9999 -9999     1 -9999 -9999 -9999  \n",
       "\n",
       "[5 rows x 26 columns]"
      ]
     },
     "execution_count": 7,
     "metadata": {},
     "output_type": "execute_result"
    }
   ],
   "source": [
    "import numpy as np\n",
    "import pandas as pd\n",
    "seattle = pd.read_csv('C:\\\\Datasets\\\\BicycleWeather.csv')\n",
    "seattle.head()"
   ]
  },
  {
   "cell_type": "code",
   "execution_count": 5,
   "id": "328acffd",
   "metadata": {},
   "outputs": [
    {
     "name": "stdout",
     "output_type": "stream",
     "text": [
      "[  0 109   8 ... 102   0  58]\n",
      "1340\n"
     ]
    }
   ],
   "source": [
    "#1. Extract the PRCP column from the pandas object.\n",
    "# prcp = seattle['PRCP'].values\n",
    "# prcp\n",
    "prcp = seattle[\"PRCP\"].values\n",
    "print(prcp)\n",
    "print(prcp.size)"
   ]
  },
  {
   "cell_type": "code",
   "execution_count": 141,
   "id": "21f4f112",
   "metadata": {},
   "outputs": [
    {
     "data": {
      "text/plain": [
       "array([ True,  True,  True, ...,  True,  True,  True])"
      ]
     },
     "execution_count": 141,
     "metadata": {},
     "output_type": "execute_result"
    }
   ],
   "source": [
    "#2. Using boolean functions/operators separate numbers from NAN\n",
    "np.greater_equal(prcp, 0)"
   ]
  },
  {
   "cell_type": "code",
   "execution_count": 140,
   "id": "7c3cff79",
   "metadata": {},
   "outputs": [
    {
     "name": "stdout",
     "output_type": "stream",
     "text": [
      "zero values:  [0 0 0 0 0 0 0 0 0 0 0 0 0 0 0 0 0 0 0 0 0 0 0 0 0 0 0 0 0 0 0 0 0 0 0 0 0\n",
      " 0 0 0 0 0 0 0 0 0 0 0 0 0 0 0 0 0 0 0 0 0 0 0 0 0 0 0 0 0 0 0 0 0 0 0 0 0\n",
      " 0 0 0 0 0 0 0 0 0 0 0 0 0 0 0 0 0 0 0 0 0 0 0 0 0 0 0 0 0 0 0 0 0 0 0 0 0\n",
      " 0 0 0 0 0 0 0 0 0 0 0 0 0 0 0 0 0 0 0 0 0 0 0 0 0 0 0 0 0 0 0 0 0 0 0 0 0\n",
      " 0 0 0 0 0 0 0 0 0 0 0 0 0 0 0 0 0 0 0 0 0 0 0 0 0 0 0 0 0 0 0 0 0 0 0 0 0\n",
      " 0 0 0 0 0 0 0 0 0 0 0 0 0 0 0 0 0 0 0 0 0 0 0 0 0 0 0 0 0 0 0 0 0 0 0 0 0\n",
      " 0 0 0 0 0 0 0 0 0 0 0 0 0 0 0 0 0 0 0 0 0 0 0 0 0 0 0 0 0 0 0 0 0 0 0 0 0\n",
      " 0 0 0 0 0 0 0 0 0 0 0 0 0 0 0 0 0 0 0 0 0 0 0 0 0 0 0 0 0 0 0 0 0 0 0 0 0\n",
      " 0 0 0 0 0 0 0 0 0 0 0 0 0 0 0 0 0 0 0 0 0 0 0 0 0 0 0 0 0 0 0 0 0 0 0 0 0\n",
      " 0 0 0 0 0 0 0 0 0 0 0 0 0 0 0 0 0 0 0 0 0 0 0 0 0 0 0 0 0 0 0 0 0 0 0 0 0\n",
      " 0 0 0 0 0 0 0 0 0 0 0 0 0 0 0 0 0 0 0 0 0 0 0 0 0 0 0 0 0 0 0 0 0 0 0 0 0\n",
      " 0 0 0 0 0 0 0 0 0 0 0 0 0 0 0 0 0 0 0 0 0 0 0 0 0 0 0 0 0 0 0 0 0 0 0 0 0\n",
      " 0 0 0 0 0 0 0 0 0 0 0 0 0 0 0 0 0 0 0 0 0 0 0 0 0 0 0 0 0 0 0 0 0 0 0 0 0\n",
      " 0 0 0 0 0 0 0 0 0 0 0 0 0 0 0 0 0 0 0 0 0 0 0 0 0 0 0 0 0 0 0 0 0 0 0 0 0\n",
      " 0 0 0 0 0 0 0 0 0 0 0 0 0 0 0 0 0 0 0 0 0 0 0 0 0 0 0 0 0 0 0 0 0 0 0 0 0\n",
      " 0 0 0 0 0 0 0 0 0 0 0 0 0 0 0 0 0 0 0 0 0 0 0 0 0 0 0 0 0 0 0 0 0 0 0 0 0\n",
      " 0 0 0 0 0 0 0 0 0 0 0 0 0 0 0 0 0 0 0 0 0 0 0 0 0 0 0 0 0 0 0 0 0 0 0 0 0\n",
      " 0 0 0 0 0 0 0 0 0 0 0 0 0 0 0 0 0 0 0 0 0 0 0 0 0 0 0 0 0 0 0 0 0 0 0 0 0\n",
      " 0 0 0 0 0 0 0 0 0 0 0 0 0 0 0 0 0 0 0 0 0 0 0 0 0 0 0 0 0 0 0 0 0 0 0 0 0\n",
      " 0 0 0 0 0 0 0 0 0 0 0 0 0 0 0 0 0 0 0 0 0 0 0 0 0 0 0 0 0 0 0 0 0 0 0 0 0\n",
      " 0 0 0 0 0 0 0 0 0 0 0 0 0 0 0 0 0 0 0 0 0 0 0 0 0 0 0 0 0 0 0 0 0 0 0 0 0\n",
      " 0 0 0 0 0 0 0]\n",
      "non_zero values:  [109   8 203  13  25  43  10  41  53  25  81 198 152 135  30  61  86  81\n",
      "  48 277  36  18 135   3  28  25  25   8  10 114  25  18 173  64  30   8\n",
      "  86 114  13  36   8  20  69   5  36 104 137 193  94  86 239  84  94  36\n",
      "  20  36  13  41  48  13 274  56 132  15  15  46   3  23   5  81  18  18\n",
      " 109  66  43 107  38   8  43  43   5   5 185  18  64 140  61   3   3  38\n",
      "  66   3  13 160 165  15   8  30  10 157  86   5   3  30  20  58  15   5\n",
      "   3 152  10   3   3   3  20  48 165  79 208  48   5  64  89  71  15 231\n",
      "  61 109 345 145  97  56   5  81   8   3 152  36  53   8  56  61  79 541\n",
      "  38 112 320  28  15 356  41 196 130 142  15  15  10  15   5  30  81  23\n",
      "  79  53 226  20  33 137 132  18  33  66   3 135  46  41  15  41  25  30\n",
      "  20  23 163 384   3  51  58  30  23  18  79  43  36  30   3  23  33  10\n",
      "  13   3   3  10  23  10  15   5  94   3  23   5  46  81  41   8 119  74\n",
      "   8  13  20  23  28  43 117  99  81   3  20  84 185 127 391   8  94  15\n",
      "  97  94  58   3  53 206  33  10  38  66  33  10   5 137 137  41   3  15\n",
      "  97   5  56  10   3   3  30   3  79  48  99  20  36  20  23   8  18   3\n",
      "  10  13  56 193  23   3 277 213  33   3  36 135  28  20  10 434 168 185\n",
      "  79  53   8  41   5  69  10  91  10  18   5   3  13 127   5  25  38 300\n",
      "  18  41  13  30  53 262  10   5  23  30  46  69   5  13   3  13  56  56\n",
      " 107  15   3   3   5  41  15   3 122  97  58  43 213  15   5  89 216  23\n",
      "  20  51   5 183 170  46  18  94 117 264 145 152  10  30  28  25  61 130\n",
      "   3   5 191 107 165 467  30 323  43 188   5  69  81 277   3   5  41  36\n",
      "   3 221 140  25  46  46   5 109 185 137  51 142  89 124  33  69 333 160\n",
      "  51 137  20   5  38  56  18  64   5  36  13   8   3  18  23   3 193   5\n",
      "   5 127 216  10  84  13  30   5   3   3 183 203  43  89   8   3  74  76\n",
      "  71  86  33 150 117  10 320  94  41  61  15   8 127   5 254 170  18 109\n",
      "  41  48  41  51  36 152   5 119  13 183   3  33 343  36   8  30  74  91\n",
      "  99 130  69  28 130  30 196 206  53  33  41  15 102  81   3  58  15  97\n",
      " 262 213   5   8  58   5   8  15  74  13  84 262 173 236  36  61   3  10\n",
      "   3  46   8  41  94 183   8  25  20 170 559  10   8  41  38  10  81  76\n",
      "  51  10  18  10  51  15  10   5 109 140  33  56  30  33  13   3  18  61\n",
      "  43  41   3  46   5   5   3   3  20  76 305  20   5 325 102  58]\n"
     ]
    }
   ],
   "source": [
    "3. #Using boolean masking separate all zeros into different variables.\n",
    "zero = prcp[np.equal(prcp,0)]\n",
    "non_zero = prcp[np.greater(prcp,0)]\n",
    "print(\"zero values: \", zero)\n",
    "print(\"non_zero values: \", non_zero)"
   ]
  },
  {
   "cell_type": "code",
   "execution_count": 112,
   "id": "1afadcad",
   "metadata": {},
   "outputs": [
    {
     "data": {
      "text/plain": [
       "array([0., 0., 0., 0., 0., 0., 0., 0., 0., 0., 0., 0., 0., 0., 0., 0., 0.,\n",
       "       0., 0., 0., 0., 0., 0., 0., 0., 0., 0., 0., 0., 0., 0., 0., 0., 0.,\n",
       "       0., 0., 0., 0., 0., 0., 0., 0., 0., 0., 0., 0., 0., 0., 0., 0., 0.,\n",
       "       0., 0., 0., 0., 0., 0., 0., 0., 0., 0., 0., 0., 0., 0., 0., 0., 0.,\n",
       "       0., 0., 0., 0., 0., 0., 0., 0., 0., 0., 0., 0., 0., 0., 0., 0., 0.,\n",
       "       0., 0., 0., 0., 0., 0., 0., 0., 0., 0., 0., 0., 0., 0., 0., 0., 0.,\n",
       "       0., 0., 0., 0., 0., 0., 0., 0., 0., 0., 0., 0., 0., 0., 0., 0., 0.,\n",
       "       0., 0., 0., 0., 0., 0., 0., 0., 0., 0., 0., 0., 0., 0., 0., 0., 0.,\n",
       "       0., 0., 0., 0., 0., 0., 0., 0., 0., 0., 0., 0., 0., 0., 0., 0., 0.,\n",
       "       0., 0., 0., 0., 0., 0., 0., 0., 0., 0., 0., 0., 0., 0., 0., 0., 0.,\n",
       "       0., 0., 0., 0., 0., 0., 0., 0., 0., 0., 0., 0., 0., 0., 0., 0., 0.,\n",
       "       0., 0., 0., 0., 0., 0., 0., 0., 0., 0., 0., 0., 0., 0., 0., 0., 0.,\n",
       "       0., 0., 0., 0., 0., 0., 0., 0., 0., 0., 0., 0., 0., 0., 0., 0., 0.,\n",
       "       0., 0., 0., 0., 0., 0., 0., 0., 0., 0., 0., 0., 0., 0., 0., 0., 0.,\n",
       "       0., 0., 0., 0., 0., 0., 0., 0., 0., 0., 0., 0., 0., 0., 0., 0., 0.,\n",
       "       0., 0., 0., 0., 0., 0., 0., 0., 0., 0., 0., 0., 0., 0., 0., 0., 0.,\n",
       "       0., 0., 0., 0., 0., 0., 0., 0., 0., 0., 0., 0., 0., 0., 0., 0., 0.,\n",
       "       0., 0., 0., 0., 0., 0., 0., 0., 0., 0., 0., 0., 0., 0., 0., 0., 0.,\n",
       "       0., 0., 0., 0., 0., 0., 0., 0., 0., 0., 0., 0., 0., 0., 0., 0., 0.,\n",
       "       0., 0., 0., 0., 0., 0., 0., 0., 0., 0., 0., 0., 0., 0., 0., 0., 0.,\n",
       "       0., 0., 0., 0., 0., 0., 0., 0., 0., 0., 0., 0., 0., 0., 0., 0., 0.,\n",
       "       0., 0., 0., 0., 0., 0., 0., 0., 0., 0., 0., 0., 0., 0., 0., 0., 0.,\n",
       "       0., 0., 0., 0., 0., 0., 0., 0., 0., 0., 0., 0., 0., 0., 0., 0., 0.,\n",
       "       0., 0., 0., 0., 0., 0., 0., 0., 0., 0., 0., 0., 0., 0., 0., 0., 0.,\n",
       "       0., 0., 0., 0., 0., 0., 0., 0., 0., 0., 0., 0., 0., 0., 0., 0., 0.,\n",
       "       0., 0., 0., 0., 0., 0., 0., 0., 0., 0., 0., 0., 0., 0., 0., 0., 0.,\n",
       "       0., 0., 0., 0., 0., 0., 0., 0., 0., 0., 0., 0., 0., 0., 0., 0., 0.,\n",
       "       0., 0., 0., 0., 0., 0., 0., 0., 0., 0., 0., 0., 0., 0., 0., 0., 0.,\n",
       "       0., 0., 0., 0., 0., 0., 0., 0., 0., 0., 0., 0., 0., 0., 0., 0., 0.,\n",
       "       0., 0., 0., 0., 0., 0., 0., 0., 0., 0., 0., 0., 0., 0., 0., 0., 0.,\n",
       "       0., 0., 0., 0., 0., 0., 0., 0., 0., 0., 0., 0., 0., 0., 0., 0., 0.,\n",
       "       0., 0., 0., 0., 0., 0., 0., 0., 0., 0., 0., 0., 0., 0., 0., 0., 0.,\n",
       "       0., 0., 0., 0., 0., 0., 0., 0., 0., 0., 0., 0., 0., 0., 0., 0., 0.,\n",
       "       0., 0., 0., 0., 0., 0., 0., 0., 0., 0., 0., 0., 0., 0., 0., 0., 0.,\n",
       "       0., 0., 0., 0., 0., 0., 0., 0., 0., 0., 0., 0., 0., 0., 0., 0., 0.,\n",
       "       0., 0., 0., 0., 0., 0., 0., 0., 0., 0., 0., 0., 0., 0., 0., 0., 0.,\n",
       "       0., 0., 0., 0., 0., 0., 0., 0., 0., 0., 0., 0., 0., 0., 0., 0., 0.,\n",
       "       0., 0., 0., 0., 0., 0., 0., 0., 0., 0., 0., 0., 0., 0., 0., 0., 0.,\n",
       "       0., 0., 0., 0., 0., 0., 0., 0., 0., 0., 0., 0., 0., 0., 0., 0., 0.,\n",
       "       0., 0., 0., 0., 0., 0., 0., 0., 0., 0., 0., 0., 0., 0., 0., 0., 0.,\n",
       "       0., 0., 0., 0., 0., 0., 0., 0., 0., 0., 0., 0., 0., 0., 0., 0., 0.,\n",
       "       0., 0., 0., 0., 0., 0., 0., 0., 0., 0., 0., 0., 0., 0., 0., 0., 0.,\n",
       "       0., 0., 0., 0., 0., 0., 0., 0., 0., 0., 0., 0., 0., 0., 0., 0., 0.,\n",
       "       0., 0., 0., 0., 0., 0., 0., 0., 0., 0., 0., 0., 0., 0., 0., 0., 0.,\n",
       "       0., 0., 0., 0., 0., 0., 0., 0., 0., 0., 0., 0., 0., 0., 0., 0., 0.,\n",
       "       0., 0., 0., 0., 0., 0., 0., 0., 0., 0., 0., 0., 0., 0., 0., 0., 0.,\n",
       "       0., 0.])"
      ]
     },
     "execution_count": 112,
     "metadata": {},
     "output_type": "execute_result"
    }
   ],
   "source": [
    "#non-zeros into different variables.\n",
    "inche =inches[val]\n",
    "non_rainy = (inches == 0)\n",
    "inches[non_rainy]"
   ]
  },
  {
   "cell_type": "code",
   "execution_count": 116,
   "id": "4e588cbe",
   "metadata": {},
   "outputs": [
    {
     "data": {
      "text/plain": [
       "array([ 43.6,   3.2,  81.2,   5.2,  10. ,  17.2,   4. ,  16.4,  21.2,\n",
       "        10. ,  32.4,  79.2,  60.8,  54. ,  12. ,  24.4,  34.4,  32.4,\n",
       "        19.2, 110.8,  14.4,   7.2,  54. ,   1.2,  11.2,  10. ,  10. ,\n",
       "         3.2,   4. ,  45.6,  10. ,   7.2,  69.2,  25.6,  12. ,   3.2,\n",
       "        34.4,  45.6,   5.2,  14.4,   3.2,   8. ,  27.6,   2. ,  14.4,\n",
       "        41.6,  54.8,  77.2,  37.6,  34.4,  95.6,  33.6,  37.6,  14.4,\n",
       "         8. ,  14.4,   5.2,  16.4,  19.2,   5.2, 109.6,  22.4,  52.8,\n",
       "         6. ,   6. ,  18.4,   1.2,   9.2,   2. ,  32.4,   7.2,   7.2,\n",
       "        43.6,  26.4,  17.2,  42.8,  15.2,   3.2,  17.2,  17.2,   2. ,\n",
       "         2. ,  74. ,   7.2,  25.6,  56. ,  24.4,   1.2,   1.2,  15.2,\n",
       "        26.4,   1.2,   5.2,  64. ,  66. ,   6. ,   3.2,  12. ,   4. ,\n",
       "        62.8,  34.4,   2. ,   1.2,  12. ,   8. ,  23.2,   6. ,   2. ,\n",
       "         1.2,  60.8,   4. ,   1.2,   1.2,   1.2,   8. ,  19.2,  66. ,\n",
       "        31.6,  83.2,  19.2,   2. ,  25.6,  35.6,  28.4,   6. ,  92.4,\n",
       "        24.4,  43.6, 138. ,  58. ,  38.8,  22.4,   2. ,  32.4,   3.2,\n",
       "         1.2,  60.8,  14.4,  21.2,   3.2,  22.4,  24.4,  31.6, 216.4,\n",
       "        15.2,  44.8, 128. ,  11.2,   6. , 142.4,  16.4,  78.4,  52. ,\n",
       "        56.8,   6. ,   6. ,   4. ,   6. ,   2. ,  12. ,  32.4,   9.2,\n",
       "        31.6,  21.2,  90.4,   8. ,  13.2,  54.8,  52.8,   7.2,  13.2,\n",
       "        26.4,   1.2,  54. ,  18.4,  16.4,   6. ,  16.4,  10. ,  12. ,\n",
       "         8. ,   9.2,  65.2, 153.6,   1.2,  20.4,  23.2,  12. ,   9.2,\n",
       "         7.2,  31.6,  17.2,  14.4,  12. ,   1.2,   9.2,  13.2,   4. ,\n",
       "         5.2,   1.2,   1.2,   4. ,   9.2,   4. ,   6. ,   2. ,  37.6,\n",
       "         1.2,   9.2,   2. ,  18.4,  32.4,  16.4,   3.2,  47.6,  29.6,\n",
       "         3.2,   5.2,   8. ,   9.2,  11.2,  17.2,  46.8,  39.6,  32.4,\n",
       "         1.2,   8. ,  33.6,  74. ,  50.8, 156.4,   3.2,  37.6,   6. ,\n",
       "        38.8,  37.6,  23.2,   1.2,  21.2,  82.4,  13.2,   4. ,  15.2,\n",
       "        26.4,  13.2,   4. ,   2. ,  54.8,  54.8,  16.4,   1.2,   6. ,\n",
       "        38.8,   2. ,  22.4,   4. ,   1.2,   1.2,  12. ,   1.2,  31.6,\n",
       "        19.2,  39.6,   8. ,  14.4,   8. ,   9.2,   3.2,   7.2,   1.2,\n",
       "         4. ,   5.2,  22.4,  77.2,   9.2,   1.2, 110.8,  85.2,  13.2,\n",
       "         1.2,  14.4,  54. ,  11.2,   8. ,   4. , 173.6,  67.2,  74. ,\n",
       "        31.6,  21.2,   3.2,  16.4,   2. ,  27.6,   4. ,  36.4,   4. ,\n",
       "         7.2,   2. ,   1.2,   5.2,  50.8,   2. ,  10. ,  15.2, 120. ,\n",
       "         7.2,  16.4,   5.2,  12. ,  21.2, 104.8,   4. ,   2. ,   9.2,\n",
       "        12. ,  18.4,  27.6,   2. ,   5.2,   1.2,   5.2,  22.4,  22.4,\n",
       "        42.8,   6. ,   1.2,   1.2,   2. ,  16.4,   6. ,   1.2,  48.8,\n",
       "        38.8,  23.2,  17.2,  85.2,   6. ,   2. ,  35.6,  86.4,   9.2,\n",
       "         8. ,  20.4,   2. ,  73.2,  68. ,  18.4,   7.2,  37.6,  46.8,\n",
       "       105.6,  58. ,  60.8,   4. ,  12. ,  11.2,  10. ,  24.4,  52. ,\n",
       "         1.2,   2. ,  76.4,  42.8,  66. , 186.8,  12. , 129.2,  17.2,\n",
       "        75.2,   2. ,  27.6,  32.4, 110.8,   1.2,   2. ,  16.4,  14.4,\n",
       "         1.2,  88.4,  56. ,  10. ,  18.4,  18.4,   2. ,  43.6,  74. ,\n",
       "        54.8,  20.4,  56.8,  35.6,  49.6,  13.2,  27.6, 133.2,  64. ,\n",
       "        20.4,  54.8,   8. ,   2. ,  15.2,  22.4,   7.2,  25.6,   2. ,\n",
       "        14.4,   5.2,   3.2,   1.2,   7.2,   9.2,   1.2,  77.2,   2. ,\n",
       "         2. ,  50.8,  86.4,   4. ,  33.6,   5.2,  12. ,   2. ,   1.2,\n",
       "         1.2,  73.2,  81.2,  17.2,  35.6,   3.2,   1.2,  29.6,  30.4,\n",
       "        28.4,  34.4,  13.2,  60. ,  46.8,   4. , 128. ,  37.6,  16.4,\n",
       "        24.4,   6. ,   3.2,  50.8,   2. , 101.6,  68. ,   7.2,  43.6,\n",
       "        16.4,  19.2,  16.4,  20.4,  14.4,  60.8,   2. ,  47.6,   5.2,\n",
       "        73.2,   1.2,  13.2, 137.2,  14.4,   3.2,  12. ,  29.6,  36.4,\n",
       "        39.6,  52. ,  27.6,  11.2,  52. ,  12. ,  78.4,  82.4,  21.2,\n",
       "        13.2,  16.4,   6. ,  40.8,  32.4,   1.2,  23.2,   6. ,  38.8,\n",
       "       104.8,  85.2,   2. ,   3.2,  23.2,   2. ,   3.2,   6. ,  29.6,\n",
       "         5.2,  33.6, 104.8,  69.2,  94.4,  14.4,  24.4,   1.2,   4. ,\n",
       "         1.2,  18.4,   3.2,  16.4,  37.6,  73.2,   3.2,  10. ,   8. ,\n",
       "        68. , 223.6,   4. ,   3.2,  16.4,  15.2,   4. ,  32.4,  30.4,\n",
       "        20.4,   4. ,   7.2,   4. ,  20.4,   6. ,   4. ,   2. ,  43.6,\n",
       "        56. ,  13.2,  22.4,  12. ,  13.2,   5.2,   1.2,   7.2,  24.4,\n",
       "        17.2,  16.4,   1.2,  18.4,   2. ,   2. ,   1.2,   1.2,   8. ,\n",
       "        30.4, 122. ,   8. ,   2. , 130. ,  40.8,  23.2])"
      ]
     },
     "execution_count": 116,
     "metadata": {},
     "output_type": "execute_result"
    }
   ],
   "source": [
    "#4. From the variable holding non-zeros, multiply every values in the array with 100 and divid by 250\n",
    "(non_zero * 100)/250"
   ]
  },
  {
   "cell_type": "code",
   "execution_count": 126,
   "id": "b9be5f9f",
   "metadata": {},
   "outputs": [
    {
     "name": "stdout",
     "output_type": "stream",
     "text": [
      "Median precip on rainy days in 2012 (inches):  38.0\n"
     ]
    }
   ],
   "source": [
    "# 5. Calculate the following: a. Median precip on rainy days b. Median precip on\n",
    "#summer days c. Maximum precip on summer days d. Median precip on non-summer rainy days\n",
    "print(\"Median precip on rainy days in 2012 (inches): \", np.median(non_zero))"
   ]
  },
  {
   "cell_type": "code",
   "execution_count": 133,
   "id": "fecbb3d8",
   "metadata": {},
   "outputs": [
    {
     "name": "stdout",
     "output_type": "stream",
     "text": [
      "median precip of summer days:  36.0\n"
     ]
    }
   ],
   "source": [
    "#b. Median precip on summer days\n",
    "#556/2=278\n",
    "summer = (np.arange(556)-278<90) & (np.arange(556)-278>0)\n",
    "summer_prcp = non_zero[summer]\n",
    "print(\"median precip of summer days: \", np.median(summer_prcp))"
   ]
  },
  {
   "cell_type": "code",
   "execution_count": 136,
   "id": "75ceea38",
   "metadata": {},
   "outputs": [
    {
     "name": "stdout",
     "output_type": "stream",
     "text": [
      "maximum precip of summer days:  467\n"
     ]
    }
   ],
   "source": [
    "#c. Maximum precip on summer days d. Median precip on non-summer rainy day\n",
    "print(\"maximum precip of summer days: \", np.max(summer_prcp))"
   ]
  },
  {
   "cell_type": "code",
   "execution_count": 139,
   "id": "57b74bdc",
   "metadata": {},
   "outputs": [
    {
     "name": "stdout",
     "output_type": "stream",
     "text": [
      "median precip of non_summer days:  38.0\n"
     ]
    }
   ],
   "source": [
    "#d. Median precip on non-summer rainy day\n",
    "print(\"median precip of non_summer days: \", np.median(non_zero[~summer]))"
   ]
  }
 ],
 "metadata": {
  "kernelspec": {
   "display_name": "Python 3 (ipykernel)",
   "language": "python",
   "name": "python3"
  },
  "language_info": {
   "codemirror_mode": {
    "name": "ipython",
    "version": 3
   },
   "file_extension": ".py",
   "mimetype": "text/x-python",
   "name": "python",
   "nbconvert_exporter": "python",
   "pygments_lexer": "ipython3",
   "version": "3.9.12"
  }
 },
 "nbformat": 4,
 "nbformat_minor": 5
}
